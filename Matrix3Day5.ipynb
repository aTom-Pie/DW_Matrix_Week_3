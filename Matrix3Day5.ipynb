{
  "nbformat": 4,
  "nbformat_minor": 0,
  "metadata": {
    "colab": {
      "name": "Matrix3Day5.ipynb",
      "provenance": [],
      "collapsed_sections": [],
      "mount_file_id": "1g3jQJUzJMYs2KsMx1YzFDWVjACZIRSUC",
      "authorship_tag": "ABX9TyMdq0NuztzpYUMrGmJLxe6d",
      "include_colab_link": true
    },
    "kernelspec": {
      "name": "python3",
      "display_name": "Python 3"
    },
    "accelerator": "GPU"
  },
  "cells": [
    {
      "cell_type": "markdown",
      "metadata": {
        "id": "view-in-github",
        "colab_type": "text"
      },
      "source": [
        "<a href=\"https://colab.research.google.com/github/aTom-Pie/DW_Matrix_Week_3/blob/master/Matrix3Day5.ipynb\" target=\"_parent\"><img src=\"https://colab.research.google.com/assets/colab-badge.svg\" alt=\"Open In Colab\"/></a>"
      ]
    },
    {
      "cell_type": "code",
      "metadata": {
        "id": "C0HkaQBwszWI",
        "colab_type": "code",
        "outputId": "fe02e21f-02d0-46a4-fb19-fce91b23c474",
        "colab": {
          "base_uri": "https://localhost:8080/",
          "height": 34
        }
      },
      "source": [
        "cd '/content/drive/My Drive/Colab Notebooks/Matrix3'"
      ],
      "execution_count": 1,
      "outputs": [
        {
          "output_type": "stream",
          "text": [
            "/content/drive/My Drive/Colab Notebooks/Matrix3\n"
          ],
          "name": "stdout"
        }
      ]
    },
    {
      "cell_type": "code",
      "metadata": {
        "colab_type": "code",
        "id": "mCCN3zaPsI1o",
        "outputId": "f274b86c-86a7-40c8-aa48-cb9061bd2b5d",
        "colab": {
          "base_uri": "https://localhost:8080/",
          "height": 68
        }
      },
      "source": [
        "ls"
      ],
      "execution_count": 2,
      "outputs": [
        {
          "output_type": "stream",
          "text": [
            " \u001b[0m\u001b[01;34mdata\u001b[0m/                      Matrix3_Day1.ipynb   Matrix3_Day4.ipynb\n",
            "'Kopia Matrix3Day5.ipynb'   Matrix3_Day2.ipynb   Matrix3Day5-2.ipynb\n",
            " \u001b[01;34mlogs\u001b[0m/                      Matrix3_Day3.ipynb   Matrix3Day5.ipynb\n"
          ],
          "name": "stdout"
        }
      ]
    },
    {
      "cell_type": "code",
      "metadata": {
        "id": "2rTsZC_Hs4N7",
        "colab_type": "code",
        "colab": {}
      },
      "source": [
        "# !pip install hyperopt"
      ],
      "execution_count": 0,
      "outputs": []
    },
    {
      "cell_type": "code",
      "metadata": {
        "id": "0GHzE5V7sMC3",
        "colab_type": "code",
        "colab": {}
      },
      "source": [
        "import os\n",
        "import datetime\n",
        "\n",
        "import pandas as pd\n",
        "import numpy as np\n",
        "\n",
        "import matplotlib.pyplot as plt\n",
        "from skimage import color, exposure\n",
        "\n",
        "import tensorflow as tf\n",
        "from tensorflow.keras.models import Sequential\n",
        "from tensorflow.keras.layers import Conv2D, Dense, MaxPool2D, Flatten,Dropout\n",
        "from tensorflow.keras.utils import to_categorical\n",
        "\n",
        "from sklearn.metrics import accuracy_score\n",
        "\n",
        "%load_ext tensorboard\n",
        "\n",
        "from hyperopt import hp, STATUS_OK, tpe, Trials, fmin\n",
        "\n",
        "\n",
        "# from collections import Counter"
      ],
      "execution_count": 0,
      "outputs": []
    },
    {
      "cell_type": "code",
      "metadata": {
        "id": "JNbK4fK5W_vo",
        "colab_type": "code",
        "colab": {}
      },
      "source": [
        "df=pd.read_csv('data/signnames.csv')\n",
        "labels = df.to_dict()['b']"
      ],
      "execution_count": 0,
      "outputs": []
    },
    {
      "cell_type": "code",
      "metadata": {
        "id": "IniuBvmdubd5",
        "colab_type": "code",
        "colab": {}
      },
      "source": [
        "train = pd.read_pickle('data/train.p')\n",
        "test = pd.read_pickle('data/test.p')\n",
        "\n",
        "[X_train, y_train] = train['features'], train['labels']\n",
        "[X_test, y_test] = test['features'], test['labels']"
      ],
      "execution_count": 0,
      "outputs": []
    },
    {
      "cell_type": "code",
      "metadata": {
        "id": "ccPriPs5W_rt",
        "colab_type": "code",
        "colab": {}
      },
      "source": [
        "if y_train.ndim == 1: y_train = to_categorical(y_train)\n",
        "if y_test.ndim == 1: y_test = to_categorical(y_test)\n",
        "\n",
        "input_shape = X_train.shape[1:]\n",
        "num_classes = y_train.shape[1]"
      ],
      "execution_count": 0,
      "outputs": []
    },
    {
      "cell_type": "code",
      "metadata": {
        "id": "iJV_MMDsW_n-",
        "colab_type": "code",
        "colab": {}
      },
      "source": [
        "def train_model(model, X_train, y_train, params_fit={}):\n",
        "  model.compile(loss='categorical_crossentropy', optimizer='Adam', metrics=['accuracy'])\n",
        "  \n",
        "  logdir = os.path.join(\"logs\", datetime.datetime.now().strftime('%Y%m%d-%H%M%S'))\n",
        "  tensorboard_callback = tf.keras.callbacks.TensorBoard(logdir, histogram_freq=1)\n",
        "  model.fit(\n",
        "      X_train,\n",
        "      y_train,\n",
        "      batch_size=params_fit.get('batch_size', 128),  \n",
        "      epochs=params_fit.get('epochs', 5), \n",
        "      verbose=params_fit.get('verbose', 1),  \n",
        "      validation_data=params_fit.get('validation_data', (X_train, y_train)), \n",
        "      callbacks=[tensorboard_callback]    \n",
        "  )\n",
        "  return model"
      ],
      "execution_count": 0,
      "outputs": []
    },
    {
      "cell_type": "code",
      "metadata": {
        "id": "5PhWznofW_km",
        "colab_type": "code",
        "colab": {}
      },
      "source": [
        "def predict(model_trained, X_test, y_test, scoring=accuracy_score):\n",
        "  \n",
        "  y_test_norm = np.argmax(y_test, axis=1)\n",
        "\n",
        "  y_pred_prob = model_trained.predict(X_test)\n",
        "  y_pred = np.argmax(y_pred_prob, axis=1)\n",
        "\n",
        "  return scoring(y_test_norm, y_pred)"
      ],
      "execution_count": 0,
      "outputs": []
    },
    {
      "cell_type": "code",
      "metadata": {
        "id": "Bw6FpXVDW_bX",
        "colab_type": "code",
        "colab": {}
      },
      "source": [
        "def get_cnn_v5(input_shape, num_classes):\n",
        "  return Sequential([\n",
        "                     \n",
        "    Conv2D(filters=32, kernel_size=(3,3), activation='relu', input_shape=input_shape),\n",
        "    Conv2D(filters=32, kernel_size=(3,3), activation='relu', padding='same'),\n",
        "    MaxPool2D(),\n",
        "    Dropout(0.3),\n",
        "    \n",
        "    Conv2D(filters=64, kernel_size=(3,3), activation='relu', padding='same'),\n",
        "    Conv2D(filters=64, kernel_size=(3,3), activation='relu'),\n",
        "    MaxPool2D(),\n",
        "    Dropout(0.3),\n",
        "\n",
        "    Conv2D(filters=64, kernel_size=(3,3), activation='relu', padding='same'),\n",
        "    Conv2D(filters=64, kernel_size=(3,3), activation='relu'),\n",
        "    MaxPool2D(),\n",
        "    Dropout(0.3),\n",
        "    \n",
        "    Flatten(),\n",
        "    \n",
        "    Dense(1024, activation='relu'),\n",
        "    Dropout(0.3),\n",
        "\n",
        "    Dense(1024, activation='relu'),\n",
        "    Dropout(0.3),\n",
        "    \n",
        "    Dense(num_classes, activation='softmax')\n",
        "\n",
        "  ])\n",
        "  "
      ],
      "execution_count": 0,
      "outputs": []
    },
    {
      "cell_type": "code",
      "metadata": {
        "id": "4vla2V3QW_YA",
        "colab_type": "code",
        "colab": {
          "base_uri": "https://localhost:8080/",
          "height": 204
        },
        "outputId": "fe844a14-2995-4a14-91f5-bd28b7c83389"
      },
      "source": [
        "model = get_cnn_v5(input_shape, num_classes)\n",
        "model_trained = train_model(model, X_train, y_train)\n",
        "predict(model_trained, X_test, y_test)"
      ],
      "execution_count": 11,
      "outputs": [
        {
          "output_type": "stream",
          "text": [
            "Epoch 1/5\n",
            "272/272 [==============================] - 6s 24ms/step - loss: 2.5367 - accuracy: 0.3056 - val_loss: 0.8376 - val_accuracy: 0.7417\n",
            "Epoch 2/5\n",
            "272/272 [==============================] - 6s 22ms/step - loss: 0.7218 - accuracy: 0.7722 - val_loss: 0.1437 - val_accuracy: 0.9584\n",
            "Epoch 3/5\n",
            "272/272 [==============================] - 6s 22ms/step - loss: 0.3413 - accuracy: 0.8959 - val_loss: 0.0745 - val_accuracy: 0.9808\n",
            "Epoch 4/5\n",
            "272/272 [==============================] - 6s 22ms/step - loss: 0.2148 - accuracy: 0.9350 - val_loss: 0.0408 - val_accuracy: 0.9878\n",
            "Epoch 5/5\n",
            "272/272 [==============================] - 6s 22ms/step - loss: 0.1672 - accuracy: 0.9502 - val_loss: 0.0234 - val_accuracy: 0.9934\n"
          ],
          "name": "stdout"
        },
        {
          "output_type": "execute_result",
          "data": {
            "text/plain": [
              "0.9687074829931973"
            ]
          },
          "metadata": {
            "tags": []
          },
          "execution_count": 11
        }
      ]
    },
    {
      "cell_type": "code",
      "metadata": {
        "id": "MlqERWy0W_Um",
        "colab_type": "code",
        "colab": {
          "base_uri": "https://localhost:8080/",
          "height": 51
        },
        "outputId": "93831f07-b4c8-490c-959d-ff3a4dd2b28b"
      },
      "source": [
        "model_trained.evaluate(X_test, y_test)"
      ],
      "execution_count": 12,
      "outputs": [
        {
          "output_type": "stream",
          "text": [
            "138/138 [==============================] - 0s 3ms/step - loss: 0.1239 - accuracy: 0.9687\n"
          ],
          "name": "stdout"
        },
        {
          "output_type": "execute_result",
          "data": {
            "text/plain": [
              "[0.12394881248474121, 0.9687075018882751]"
            ]
          },
          "metadata": {
            "tags": []
          },
          "execution_count": 12
        }
      ]
    },
    {
      "cell_type": "code",
      "metadata": {
        "id": "USFP1T4MW_O5",
        "colab_type": "code",
        "colab": {}
      },
      "source": [
        "def get_model(params):\n",
        "  return Sequential([\n",
        "                     \n",
        "    Conv2D(filters=32, kernel_size=(3,3), activation='relu', input_shape=input_shape),\n",
        "    Conv2D(filters=32, kernel_size=(3,3), activation='relu', padding='same'),\n",
        "    MaxPool2D(),\n",
        "    Dropout(params['dropout_cnn_block_1']),\n",
        "    \n",
        "    Conv2D(filters=64, kernel_size=(3,3), activation='relu', padding='same'),\n",
        "    Conv2D(filters=64, kernel_size=(3,3), activation='relu'),\n",
        "    MaxPool2D(),\n",
        "    Dropout(params['dropout_cnn_block_2']),\n",
        "    \n",
        "    Conv2D(filters=128, kernel_size=(3,3), activation='relu', padding='same'),\n",
        "    Conv2D(filters=128, kernel_size=(3,3), activation='relu'),\n",
        "    MaxPool2D(),\n",
        "    Dropout(params['dropout_cnn_block_3']),\n",
        "    \n",
        "    Flatten(),\n",
        "    \n",
        "    Dense(1024, activation='relu'),\n",
        "    Dropout(params['dropout_dense_block_1']),\n",
        "    \n",
        "    Dense(1024, activation='relu'),\n",
        "    Dropout(params['dropout_dense_block_2']),\n",
        "    \n",
        "    Dense(num_classes, activation='softmax')\n",
        "\n",
        "  ])\n",
        "  "
      ],
      "execution_count": 0,
      "outputs": []
    },
    {
      "cell_type": "code",
      "metadata": {
        "id": "QGNQGDreW_LK",
        "colab_type": "code",
        "colab": {}
      },
      "source": [
        "def func_obj(params):\n",
        "  get_model(params)\n",
        "  model.compile(loss='categorical_crossentropy', \n",
        "                optimizer='Adam', \n",
        "                metrics=['accuracy']\n",
        "                )\n",
        "  \n",
        "  model.fit(\n",
        "      X_train,\n",
        "      y_train,\n",
        "      batch_size=int(params.get('batch_size', 128)), \n",
        "      # epochs=7,\n",
        "      epochs = int(params.get('epochs', 7)),   \n",
        "      verbose=0,          \n",
        "  )\n",
        "\n",
        "  score = model.evaluate(X_test, y_test,verbose=0)\n",
        "  accuracy = score[1]\n",
        "  print(params, 'accuracy={}'.format(accuracy))\n",
        "  return {'loss': -accuracy, 'status': STATUS_OK, 'model': model}"
      ],
      "execution_count": 0,
      "outputs": []
    },
    {
      "cell_type": "code",
      "metadata": {
        "id": "zed57H1vW_G9",
        "colab_type": "code",
        "colab": {
          "base_uri": "https://localhost:8080/",
          "height": 1000
        },
        "outputId": "62fcfa01-d0a3-4c24-8f3d-75f6166974f1"
      },
      "source": [
        "space = {\n",
        "      'batch_size': hp.quniform('batch_size', 100, 200, 10),\n",
        "      'dropout_cnn_block_1': hp.uniform('dropout_cnn_block_1', 0.3, 0.5),\n",
        "      'dropout_cnn_block_2': hp.uniform('dropout_cnn_block_2', 0.3, 0.5),\n",
        "      'dropout_cnn_block_3': hp.uniform('dropout_cnn_block_3', 0.3, 0.5),\n",
        "      'dropout_dense_block_1': hp.uniform('dropout_dense_block_1', 0.3, 0.7),\n",
        "      'dropout_dense_block_2': hp.uniform('dropout_dense_block_2', 0.3, 0.7),\n",
        "}\n",
        "\n",
        "best = fmin(\n",
        "    func_obj,\n",
        "    space,\n",
        "    tpe.suggest,\n",
        "    30,\n",
        "    Trials()\n",
        ")"
      ],
      "execution_count": 15,
      "outputs": [
        {
          "output_type": "stream",
          "text": [
            "{'batch_size': 120.0, 'dropout_cnn_block_1': 0.3537223943196351, 'dropout_cnn_block_2': 0.4228291979241502, 'dropout_cnn_block_3': 0.36067627286637355, 'dropout_dense_block_1': 0.438954637560455, 'dropout_dense_block_2': 0.5721150131322976}\n",
            "accuracy=0.9800453782081604\n",
            "{'batch_size': 120.0, 'dropout_cnn_block_1': 0.45142380003575777, 'dropout_cnn_block_2': 0.3789497726951591, 'dropout_cnn_block_3': 0.37209966656132293, 'dropout_dense_block_1': 0.32837828345420506, 'dropout_dense_block_2': 0.3419139026919166}\n",
            "accuracy=0.9841269850730896\n",
            "{'batch_size': 190.0, 'dropout_cnn_block_1': 0.3956649522287362, 'dropout_cnn_block_2': 0.46267563013910407, 'dropout_cnn_block_3': 0.44083456913354424, 'dropout_dense_block_1': 0.3384536135271977, 'dropout_dense_block_2': 0.5284022811903304}\n",
            "accuracy=0.981632649898529\n",
            "{'batch_size': 110.0, 'dropout_cnn_block_1': 0.4569961293643075, 'dropout_cnn_block_2': 0.41366045642562965, 'dropout_cnn_block_3': 0.4748603822167156, 'dropout_dense_block_1': 0.6499922493736825, 'dropout_dense_block_2': 0.3176868129410508}\n",
            "accuracy=0.9891156554222107\n",
            "{'batch_size': 100.0, 'dropout_cnn_block_1': 0.4653376934179042, 'dropout_cnn_block_2': 0.3643598286739085, 'dropout_cnn_block_3': 0.46695172595370193, 'dropout_dense_block_1': 0.4923612111644573, 'dropout_dense_block_2': 0.5670569210119434}\n",
            "accuracy=0.9768707752227783\n",
            "{'batch_size': 170.0, 'dropout_cnn_block_1': 0.42871771008344584, 'dropout_cnn_block_2': 0.4677577281992945, 'dropout_cnn_block_3': 0.4710105146064643, 'dropout_dense_block_1': 0.5295322197057922, 'dropout_dense_block_2': 0.6286469953276022}\n",
            "accuracy=0.9800453782081604\n",
            "{'batch_size': 190.0, 'dropout_cnn_block_1': 0.3634392209504386, 'dropout_cnn_block_2': 0.40748561450402565, 'dropout_cnn_block_3': 0.3547829254429812, 'dropout_dense_block_1': 0.6900223931592069, 'dropout_dense_block_2': 0.3310042114029315}\n",
            "accuracy=0.9843537211418152\n",
            "{'batch_size': 130.0, 'dropout_cnn_block_1': 0.4270925520243665, 'dropout_cnn_block_2': 0.3791812642086989, 'dropout_cnn_block_3': 0.4394800219761942, 'dropout_dense_block_1': 0.46406255066081076, 'dropout_dense_block_2': 0.3827390973303959}\n",
            "accuracy=0.9752834439277649\n",
            "{'batch_size': 110.0, 'dropout_cnn_block_1': 0.3018753703180006, 'dropout_cnn_block_2': 0.4743558441125947, 'dropout_cnn_block_3': 0.3147393052739084, 'dropout_dense_block_1': 0.542286672687246, 'dropout_dense_block_2': 0.3855365037482601}\n",
            "accuracy=0.978458046913147\n",
            "{'batch_size': 180.0, 'dropout_cnn_block_1': 0.3337101969248575, 'dropout_cnn_block_2': 0.42095540300018397, 'dropout_cnn_block_3': 0.4455781542403184, 'dropout_dense_block_1': 0.4766754426946916, 'dropout_dense_block_2': 0.5905289116085638}\n",
            "accuracy=0.9852607846260071\n",
            "{'batch_size': 150.0, 'dropout_cnn_block_1': 0.3335336466399606, 'dropout_cnn_block_2': 0.32577638141990733, 'dropout_cnn_block_3': 0.3670124339539171, 'dropout_dense_block_1': 0.4845535304546602, 'dropout_dense_block_2': 0.5017160302087933}\n",
            "accuracy=0.978458046913147\n",
            "{'batch_size': 180.0, 'dropout_cnn_block_1': 0.42814284976781714, 'dropout_cnn_block_2': 0.3180222014180643, 'dropout_cnn_block_3': 0.36575492798153475, 'dropout_dense_block_1': 0.3481867660086093, 'dropout_dense_block_2': 0.4792574020956518}\n",
            "accuracy=0.9736961722373962\n",
            "{'batch_size': 120.0, 'dropout_cnn_block_1': 0.3418473289806772, 'dropout_cnn_block_2': 0.46335597423132285, 'dropout_cnn_block_3': 0.4203398921442863, 'dropout_dense_block_1': 0.5416795304052462, 'dropout_dense_block_2': 0.6929434210971638}\n",
            "accuracy=0.9814059138298035\n",
            "{'batch_size': 120.0, 'dropout_cnn_block_1': 0.3078231621559669, 'dropout_cnn_block_2': 0.4858577545943501, 'dropout_cnn_block_3': 0.3565239419509344, 'dropout_dense_block_1': 0.6784925453027701, 'dropout_dense_block_2': 0.6658452173192411}\n",
            "accuracy=0.9770975112915039\n",
            "{'batch_size': 110.0, 'dropout_cnn_block_1': 0.4161055411207145, 'dropout_cnn_block_2': 0.48437136748922793, 'dropout_cnn_block_3': 0.302842152137724, 'dropout_dense_block_1': 0.5964349332430672, 'dropout_dense_block_2': 0.5044398667280541}\n",
            "accuracy=0.978004515171051\n",
            "{'batch_size': 150.0, 'dropout_cnn_block_1': 0.42954827581910193, 'dropout_cnn_block_2': 0.3367339749490817, 'dropout_cnn_block_3': 0.43739452909222754, 'dropout_dense_block_1': 0.5100963443121836, 'dropout_dense_block_2': 0.4112190667309352}\n",
            "accuracy=0.9716553092002869\n",
            "{'batch_size': 180.0, 'dropout_cnn_block_1': 0.3910219817069077, 'dropout_cnn_block_2': 0.34163135938918393, 'dropout_cnn_block_3': 0.39444749523053035, 'dropout_dense_block_1': 0.5152591256982905, 'dropout_dense_block_2': 0.5713010036161699}\n",
            "accuracy=0.9734693765640259\n",
            "{'batch_size': 150.0, 'dropout_cnn_block_1': 0.4040996619151648, 'dropout_cnn_block_2': 0.48230909436434044, 'dropout_cnn_block_3': 0.4396456706251929, 'dropout_dense_block_1': 0.5654036052849354, 'dropout_dense_block_2': 0.6503068425277613}\n",
            "accuracy=0.9648526310920715\n",
            "{'batch_size': 110.0, 'dropout_cnn_block_1': 0.3355078338929253, 'dropout_cnn_block_2': 0.372710763235533, 'dropout_cnn_block_3': 0.3863022657999862, 'dropout_dense_block_1': 0.598060697581168, 'dropout_dense_block_2': 0.3988925710131971}\n",
            "accuracy=0.8625850081443787\n",
            "{'batch_size': 160.0, 'dropout_cnn_block_1': 0.37584407474601467, 'dropout_cnn_block_2': 0.3555542959656104, 'dropout_cnn_block_3': 0.3945672205381154, 'dropout_dense_block_1': 0.5127969708988606, 'dropout_dense_block_2': 0.31625757539174276}\n",
            "accuracy=0.9219954609870911\n",
            "{'batch_size': 140.0, 'dropout_cnn_block_1': 0.4997884493494613, 'dropout_cnn_block_2': 0.4330170196098097, 'dropout_cnn_block_3': 0.4997134256298554, 'dropout_dense_block_1': 0.4191003106208683, 'dropout_dense_block_2': 0.6072400448115036}\n",
            "accuracy=0.9464852809906006\n",
            "{'batch_size': 170.0, 'dropout_cnn_block_1': 0.4988982173933646, 'dropout_cnn_block_2': 0.44434249487943067, 'dropout_cnn_block_3': 0.4963585572520195, 'dropout_dense_block_1': 0.3974801893616815, 'dropout_dense_block_2': 0.45767554735588334}\n",
            "accuracy=0.4147392213344574\n",
            "{'batch_size': 140.0, 'dropout_cnn_block_1': 0.47428516926489445, 'dropout_cnn_block_2': 0.3967886842586625, 'dropout_cnn_block_3': 0.4748473559891873, 'dropout_dense_block_1': 0.6469427674174384, 'dropout_dense_block_2': 0.6018422815674844}\n",
            "accuracy=0.9204081892967224\n",
            "{'batch_size': 200.0, 'dropout_cnn_block_1': 0.3203655841227372, 'dropout_cnn_block_2': 0.40535847381725565, 'dropout_cnn_block_3': 0.4871558364420141, 'dropout_dense_block_1': 0.3747053155226816, 'dropout_dense_block_2': 0.42979153769787826}\n",
            "accuracy=0.9448979496955872\n",
            "{'batch_size': 200.0, 'dropout_cnn_block_1': 0.4523877853895718, 'dropout_cnn_block_2': 0.44523338217632447, 'dropout_cnn_block_3': 0.4147718804200141, 'dropout_dense_block_1': 0.6148613242675197, 'dropout_dense_block_2': 0.6964832724473421}\n",
            "accuracy=0.8312925100326538\n",
            "{'batch_size': 160.0, 'dropout_cnn_block_1': 0.4828187773753449, 'dropout_cnn_block_2': 0.3932581957024347, 'dropout_cnn_block_3': 0.459245660217678, 'dropout_dense_block_1': 0.45625785411785946, 'dropout_dense_block_2': 0.5356982878221641}\n",
            "accuracy=0.30589568614959717\n",
            "{'batch_size': 190.0, 'dropout_cnn_block_1': 0.37448141736525303, 'dropout_cnn_block_2': 0.4995064053103927, 'dropout_cnn_block_3': 0.4518314493276703, 'dropout_dense_block_1': 0.5750346222936469, 'dropout_dense_block_2': 0.3565199282913435}\n",
            "accuracy=0.7587301731109619\n",
            "{'batch_size': 100.0, 'dropout_cnn_block_1': 0.4483414646777363, 'dropout_cnn_block_2': 0.42149599644671376, 'dropout_cnn_block_3': 0.414968995556346, 'dropout_dense_block_1': 0.3000180778343434, 'dropout_dense_block_2': 0.4481134247624763}\n",
            "accuracy=0.09160997718572617\n",
            "{'batch_size': 130.0, 'dropout_cnn_block_1': 0.3555116470757639, 'dropout_cnn_block_2': 0.42323424326548875, 'dropout_cnn_block_3': 0.4809050700571468, 'dropout_dense_block_1': 0.6532662539816779, 'dropout_dense_block_2': 0.5368552949522364}\n",
            "accuracy=0.054421767592430115\n",
            "{'batch_size': 170.0, 'dropout_cnn_block_1': 0.31389926087507974, 'dropout_cnn_block_2': 0.4508067812555396, 'dropout_cnn_block_3': 0.424154362084919, 'dropout_dense_block_1': 0.4564312237549827, 'dropout_dense_block_2': 0.5839750426175929}\n",
            "accuracy=0.08253968507051468\n",
            "100%|██████████| 30/30 [12:40<00:00, 25.35s/it, best loss: -0.9891156554222107]\n"
          ],
          "name": "stdout"
        }
      ]
    },
    {
      "cell_type": "code",
      "metadata": {
        "id": "C3Qfao3NW_DR",
        "colab_type": "code",
        "colab": {}
      },
      "source": [
        ""
      ],
      "execution_count": 0,
      "outputs": []
    }
  ]
}