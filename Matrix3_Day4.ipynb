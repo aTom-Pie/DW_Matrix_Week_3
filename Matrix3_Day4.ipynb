{
  "nbformat": 4,
  "nbformat_minor": 0,
  "metadata": {
    "colab": {
      "name": "Matrix3_Day4.ipynb",
      "provenance": [],
      "collapsed_sections": [],
      "mount_file_id": "1VXt2A81D9EF102GqBcqae4ZxdYfINtJ2",
      "authorship_tag": "ABX9TyPIuRyTNmyHcIK17/52olg7",
      "include_colab_link": true
    },
    "kernelspec": {
      "name": "python3",
      "display_name": "Python 3"
    },
    "accelerator": "GPU"
  },
  "cells": [
    {
      "cell_type": "markdown",
      "metadata": {
        "id": "view-in-github",
        "colab_type": "text"
      },
      "source": [
        "<a href=\"https://colab.research.google.com/github/aTom-Pie/DW_Matrix_Week_3/blob/master/Matrix3_Day4.ipynb\" target=\"_parent\"><img src=\"https://colab.research.google.com/assets/colab-badge.svg\" alt=\"Open In Colab\"/></a>"
      ]
    },
    {
      "cell_type": "code",
      "metadata": {
        "id": "0GHzE5V7sMC3",
        "colab_type": "code",
        "colab": {}
      },
      "source": [
        "import pandas as pd\n",
        "import numpy as np\n",
        "import tensorflow as tf\n",
        "from tensorflow.keras.models import Sequential\n",
        "from tensorflow.keras.layers import Conv2D, MaxPool2D, Dense, Flatten, Dropout\n",
        "from tensorflow.keras.utils import to_categorical\n",
        "\n",
        "import os\n",
        "import datetime\n",
        "\n",
        "%load_ext tensorboard\n",
        "from skimage import color, exposure\n",
        "import matplotlib.pyplot as plt\n",
        "\n",
        "from sklearn.metrics import accuracy_score\n",
        "\n",
        "\n",
        "# from collections import Counter"
      ],
      "execution_count": 0,
      "outputs": []
    },
    {
      "cell_type": "code",
      "metadata": {
        "id": "C0HkaQBwszWI",
        "colab_type": "code",
        "outputId": "bc565d03-506f-4730-ba15-bca20f54cf9d",
        "colab": {
          "base_uri": "https://localhost:8080/",
          "height": 34
        }
      },
      "source": [
        "cd '/content/drive/My Drive/Colab Notebooks/Matrix3'"
      ],
      "execution_count": 2,
      "outputs": [
        {
          "output_type": "stream",
          "text": [
            "/content/drive/My Drive/Colab Notebooks/Matrix3\n"
          ],
          "name": "stdout"
        }
      ]
    },
    {
      "cell_type": "code",
      "metadata": {
        "id": "woQGmbWXs3C0",
        "colab_type": "code",
        "outputId": "7ad18168-8f49-4022-f064-ca73d5a069e4",
        "colab": {
          "base_uri": "https://localhost:8080/",
          "height": 51
        }
      },
      "source": [
        "ls"
      ],
      "execution_count": 3,
      "outputs": [
        {
          "output_type": "stream",
          "text": [
            "\u001b[0m\u001b[01;34mdata\u001b[0m/  Matrix3_Day1.ipynb  Matrix3_Day3.ipynb\n",
            "\u001b[01;34mlogs\u001b[0m/  Matrix3_Day2.ipynb  Matrix3_Day4.ipynb\n"
          ],
          "name": "stdout"
        }
      ]
    },
    {
      "cell_type": "code",
      "metadata": {
        "id": "zQDDpP98tDu-",
        "colab_type": "code",
        "colab": {}
      },
      "source": [
        "train = pd.read_pickle('data/train.p')\n",
        "test  = pd.read_pickle('data/test.p')\n",
        "\n",
        "X_train, y_train = train['features'], train['labels']\n",
        "X_test,  y_test  = test['features'],  test['labels']"
      ],
      "execution_count": 0,
      "outputs": []
    },
    {
      "cell_type": "code",
      "metadata": {
        "id": "5JKEd2m2v5BC",
        "colab_type": "code",
        "outputId": "386b310a-74b3-4d28-c759-6bcffa4653c4",
        "colab": {
          "base_uri": "https://localhost:8080/",
          "height": 34
        }
      },
      "source": [
        "y_train"
      ],
      "execution_count": 5,
      "outputs": [
        {
          "output_type": "execute_result",
          "data": {
            "text/plain": [
              "array([41, 41, 41, ..., 25, 25, 25], dtype=uint8)"
            ]
          },
          "metadata": {
            "tags": []
          },
          "execution_count": 5
        }
      ]
    },
    {
      "cell_type": "code",
      "metadata": {
        "id": "LFlsNGcSwmfY",
        "colab_type": "code",
        "outputId": "fa9383c0-b997-44d9-ec2e-ad9cf01ecb65",
        "colab": {
          "base_uri": "https://localhost:8080/",
          "height": 34
        }
      },
      "source": [
        "len(np.unique(y_train))"
      ],
      "execution_count": 6,
      "outputs": [
        {
          "output_type": "execute_result",
          "data": {
            "text/plain": [
              "43"
            ]
          },
          "metadata": {
            "tags": []
          },
          "execution_count": 6
        }
      ]
    },
    {
      "cell_type": "code",
      "metadata": {
        "id": "e0c7ALJTw26l",
        "colab_type": "code",
        "outputId": "a1efdb5c-02b7-4dd0-995d-43d98221a383",
        "colab": {
          "base_uri": "https://localhost:8080/",
          "height": 136
        }
      },
      "source": [
        "to_categorical(y_train) # zmiana na kategorie wektoryzacja"
      ],
      "execution_count": 7,
      "outputs": [
        {
          "output_type": "execute_result",
          "data": {
            "text/plain": [
              "array([[0., 0., 0., ..., 0., 1., 0.],\n",
              "       [0., 0., 0., ..., 0., 1., 0.],\n",
              "       [0., 0., 0., ..., 0., 1., 0.],\n",
              "       ...,\n",
              "       [0., 0., 0., ..., 0., 0., 0.],\n",
              "       [0., 0., 0., ..., 0., 0., 0.],\n",
              "       [0., 0., 0., ..., 0., 0., 0.]], dtype=float32)"
            ]
          },
          "metadata": {
            "tags": []
          },
          "execution_count": 7
        }
      ]
    },
    {
      "cell_type": "code",
      "metadata": {
        "id": "VuRyue4yxbTb",
        "colab_type": "code",
        "outputId": "854dbc75-53d1-4a56-d064-4c811d5276a3",
        "colab": {
          "base_uri": "https://localhost:8080/",
          "height": 34
        }
      },
      "source": [
        "# czy y_train jest wektorem (zapisane jako kategotie)\n",
        "# jesli nie kategoryzujemy danewejsciowe\n",
        "# pozwala to na wielokrotne uruchomienie komórki bez obawy o zmiane danych \n",
        "\n",
        "if y_train.ndim == 1: y_train = to_categorical(y_train) \n",
        "y_train.shape"
      ],
      "execution_count": 8,
      "outputs": [
        {
          "output_type": "execute_result",
          "data": {
            "text/plain": [
              "(34799, 43)"
            ]
          },
          "metadata": {
            "tags": []
          },
          "execution_count": 8
        }
      ]
    },
    {
      "cell_type": "code",
      "metadata": {
        "id": "ERjTkcQ9yK8U",
        "colab_type": "code",
        "outputId": "b9722ec0-24c7-46c0-de95-8830e472304f",
        "colab": {
          "base_uri": "https://localhost:8080/",
          "height": 34
        }
      },
      "source": [
        "# czy y_test jest wektorem (zapisane jako kategotie)\n",
        "# jesli nie kategoryzujemy danewejsciowe\n",
        "# pozwala to na wielokrotne uruchomienie komórki bez obawy o zmiane danych \n",
        "\n",
        "if y_test.ndim == 1: y_test = to_categorical(y_test)\n",
        "y_test.shape"
      ],
      "execution_count": 9,
      "outputs": [
        {
          "output_type": "execute_result",
          "data": {
            "text/plain": [
              "(4410, 43)"
            ]
          },
          "metadata": {
            "tags": []
          },
          "execution_count": 9
        }
      ]
    },
    {
      "cell_type": "code",
      "metadata": {
        "id": "ahuANNef1CA9",
        "colab_type": "code",
        "outputId": "8a30ad58-eb35-4c11-eb81-b877d6b91f6e",
        "colab": {
          "base_uri": "https://localhost:8080/",
          "height": 34
        }
      },
      "source": [
        "\n",
        "input_shape = X_train.shape[1:] #pobieramy wymiar warttwy mamy (32px x 32px x 3 warstwy)\n",
        "num_classes = y_train.shape[1]  # pobieramy ilość klas\n",
        "\n",
        "input_shape, num_classes"
      ],
      "execution_count": 10,
      "outputs": [
        {
          "output_type": "execute_result",
          "data": {
            "text/plain": [
              "((32, 32, 3), 43)"
            ]
          },
          "metadata": {
            "tags": []
          },
          "execution_count": 10
        }
      ]
    },
    {
      "cell_type": "code",
      "metadata": {
        "id": "K3Q4LuOsyaqv",
        "colab_type": "code",
        "outputId": "eeb9c184-24b8-4465-bab2-51b23ead0818",
        "colab": {
          "base_uri": "https://localhost:8080/",
          "height": 255
        }
      },
      "source": [
        "model = Sequential([\n",
        "  Conv2D(filters=64, kernel_size=(3,3), activation='relu', input_shape=input_shape ),\n",
        "  Flatten(),\n",
        "  Dense(num_classes, activation='softmax')\n",
        "\n",
        "])\n",
        "\n",
        "model.summary()"
      ],
      "execution_count": 11,
      "outputs": [
        {
          "output_type": "stream",
          "text": [
            "Model: \"sequential\"\n",
            "_________________________________________________________________\n",
            "Layer (type)                 Output Shape              Param #   \n",
            "=================================================================\n",
            "conv2d (Conv2D)              (None, 30, 30, 64)        1792      \n",
            "_________________________________________________________________\n",
            "flatten (Flatten)            (None, 57600)             0         \n",
            "_________________________________________________________________\n",
            "dense (Dense)                (None, 43)                2476843   \n",
            "=================================================================\n",
            "Total params: 2,478,635\n",
            "Trainable params: 2,478,635\n",
            "Non-trainable params: 0\n",
            "_________________________________________________________________\n"
          ],
          "name": "stdout"
        }
      ]
    },
    {
      "cell_type": "code",
      "metadata": {
        "id": "qpXrDsSV28iE",
        "colab_type": "code",
        "outputId": "fd284442-825b-4bd5-a6bf-eecb8a0404e9",
        "colab": {
          "base_uri": "https://localhost:8080/",
          "height": 51
        }
      },
      "source": [
        "model.compile(\n",
        "    loss='categorical_crossentropy', \n",
        "    optimizer='Adam', \n",
        "    metrics=['accuracy']\n",
        ")\n",
        "\n",
        "model.fit(X_train, y_train)"
      ],
      "execution_count": 12,
      "outputs": [
        {
          "output_type": "stream",
          "text": [
            "1088/1088 [==============================] - 5s 5ms/step - loss: 5.9222 - accuracy: 0.7863\n"
          ],
          "name": "stdout"
        },
        {
          "output_type": "execute_result",
          "data": {
            "text/plain": [
              "<tensorflow.python.keras.callbacks.History at 0x7f2c300e23c8>"
            ]
          },
          "metadata": {
            "tags": []
          },
          "execution_count": 12
        }
      ]
    },
    {
      "cell_type": "code",
      "metadata": {
        "id": "p43lwqNnWIns",
        "colab_type": "code",
        "outputId": "0c5eeb6c-5587-4fa2-e6ff-129d02770788",
        "colab": {
          "base_uri": "https://localhost:8080/",
          "height": 255
        }
      },
      "source": [
        "def get_cnn_v1(input_shape, num_classes):\n",
        "  return Sequential([\n",
        "  \n",
        "  Conv2D(filters=64, kernel_size=(3,3), activation='relu', input_shape=input_shape ),\n",
        "  \n",
        "  Flatten(),\n",
        "  \n",
        "  Dense(num_classes, activation='softmax')\n",
        "  ])\n",
        "\n",
        "def train_model(model, X_train, y_train, params_fit={}):\n",
        "  model.compile(\n",
        "    loss='categorical_crossentropy', \n",
        "    optimizer='Adam', \n",
        "    metrics=['accuracy']\n",
        "  )\n",
        "\n",
        "\n",
        "  logdir = os.path.join(\"logs\", datetime.datetime.now().strftime(\"%Y%m%d-%H%M%S\"))\n",
        "  tensorboard_callback = tf.keras.callbacks.TensorBoard(logdir, histogram_freq=1)\n",
        "\n",
        "  model.fit(\n",
        "      X_train, \n",
        "      y_train,\n",
        "      batch_size = params_fit.get('batch_size', 128), \n",
        "      epochs = params_fit.get('epochs', 5),\n",
        "      verbose = params_fit.get('verbose', 1),\n",
        "      validation_data = params_fit.get('validation_data', (X_train, y_train)),\n",
        "      callbacks = [tensorboard_callback],\n",
        "      )\n",
        "  # return logdir\n",
        "  return model\n",
        "\n",
        "get_cnn_v1(input_shape, num_classes).summary()\n"
      ],
      "execution_count": 13,
      "outputs": [
        {
          "output_type": "stream",
          "text": [
            "Model: \"sequential_1\"\n",
            "_________________________________________________________________\n",
            "Layer (type)                 Output Shape              Param #   \n",
            "=================================================================\n",
            "conv2d_1 (Conv2D)            (None, 30, 30, 64)        1792      \n",
            "_________________________________________________________________\n",
            "flatten_1 (Flatten)          (None, 57600)             0         \n",
            "_________________________________________________________________\n",
            "dense_1 (Dense)              (None, 43)                2476843   \n",
            "=================================================================\n",
            "Total params: 2,478,635\n",
            "Trainable params: 2,478,635\n",
            "Non-trainable params: 0\n",
            "_________________________________________________________________\n"
          ],
          "name": "stdout"
        }
      ]
    },
    {
      "cell_type": "code",
      "metadata": {
        "id": "iPKl6C0RYLEj",
        "colab_type": "code",
        "outputId": "10f4c0ed-d85e-4056-d58d-d3049041264a",
        "colab": {
          "base_uri": "https://localhost:8080/",
          "height": 207
        }
      },
      "source": [
        "model = get_cnn_v1(input_shape, num_classes)\n",
        "# logdir = train_model(model, X_train, y_train) # orginalne\n",
        "model_trained = train_model(model, X_train, y_train)"
      ],
      "execution_count": 14,
      "outputs": [
        {
          "output_type": "stream",
          "text": [
            "Epoch 1/5\n",
            "272/272 [==============================] - 5s 18ms/step - loss: 26.3314 - accuracy: 0.7075 - val_loss: 0.2520 - val_accuracy: 0.9379\n",
            "Epoch 2/5\n",
            "272/272 [==============================] - 5s 17ms/step - loss: 0.2132 - accuracy: 0.9489 - val_loss: 0.1227 - val_accuracy: 0.9699\n",
            "Epoch 3/5\n",
            "272/272 [==============================] - 5s 17ms/step - loss: 0.1379 - accuracy: 0.9668 - val_loss: 0.1231 - val_accuracy: 0.9713\n",
            "Epoch 4/5\n",
            "272/272 [==============================] - 5s 17ms/step - loss: 0.1061 - accuracy: 0.9752 - val_loss: 0.0726 - val_accuracy: 0.9804\n",
            "Epoch 5/5\n",
            "272/272 [==============================] - 5s 17ms/step - loss: 0.0735 - accuracy: 0.9820 - val_loss: 0.0706 - val_accuracy: 0.9841\n"
          ],
          "name": "stdout"
        }
      ]
    },
    {
      "cell_type": "code",
      "metadata": {
        "id": "0O6NuxRAAx0c",
        "colab_type": "code",
        "outputId": "32031bcc-cc2c-4cf4-9c0e-91d06a54d7ae",
        "colab": {
          "base_uri": "https://localhost:8080/",
          "height": 238
        }
      },
      "source": [
        "y_pred_prob = model_trained.predict(X_test)\n",
        "y_pred_prob # Prawdopodobieństwa wystepowania znaków  w Teście"
      ],
      "execution_count": 15,
      "outputs": [
        {
          "output_type": "execute_result",
          "data": {
            "text/plain": [
              "array([[8.7822571e-10, 2.9958501e-03, 6.6432261e-01, ..., 4.9201608e-06,\n",
              "        5.5865135e-06, 2.4161881e-04],\n",
              "       [1.2140334e-09, 1.8123895e-03, 9.6329343e-01, ..., 3.9676382e-04,\n",
              "        7.3568907e-09, 3.1118837e-04],\n",
              "       [6.9259383e-11, 9.0298466e-03, 4.4275954e-01, ..., 1.0604491e-05,\n",
              "        2.3315758e-04, 2.8610849e-04],\n",
              "       ...,\n",
              "       [1.3933203e-04, 8.0149975e-03, 1.2442886e-03, ..., 1.0300831e-05,\n",
              "        3.1327188e-05, 1.1313342e-04],\n",
              "       [6.4447662e-04, 2.2447111e-02, 4.7292165e-03, ..., 4.4026903e-05,\n",
              "        2.3816228e-04, 1.7816466e-04],\n",
              "       [3.5562829e-05, 2.3548270e-03, 3.5068593e-03, ..., 3.3297320e-06,\n",
              "        1.5342306e-05, 6.6483211e-05]], dtype=float32)"
            ]
          },
          "metadata": {
            "tags": []
          },
          "execution_count": 15
        }
      ]
    },
    {
      "cell_type": "code",
      "metadata": {
        "id": "3uw4s8gDBR8P",
        "colab_type": "code",
        "colab": {}
      },
      "source": [
        "# y_pred_prob[0] # Prawdopodobieństwa wystepowania 1 znaku z indeksem [0]"
      ],
      "execution_count": 0,
      "outputs": []
    },
    {
      "cell_type": "code",
      "metadata": {
        "id": "XbxYHLsRDIVi",
        "colab_type": "code",
        "outputId": "052d17ca-14df-4847-9b20-8fac3a9874c4",
        "colab": {
          "base_uri": "https://localhost:8080/",
          "height": 204
        }
      },
      "source": [
        "y_pred_prob[400] # Prawdopodobieństwa wystepowania 1 znaku z indeksem [400]"
      ],
      "execution_count": 17,
      "outputs": [
        {
          "output_type": "execute_result",
          "data": {
            "text/plain": [
              "array([9.51981638e-03, 9.90474761e-01, 1.50396751e-10, 2.19008266e-23,\n",
              "       5.45047351e-06, 2.73469389e-08, 3.79830548e-26, 1.63634420e-18,\n",
              "       1.03812848e-28, 3.78534198e-20, 3.49413587e-25, 2.45787389e-21,\n",
              "       7.78893857e-29, 3.80910528e-31, 7.46182599e-30, 1.93723741e-22,\n",
              "       2.22967029e-22, 3.87175295e-36, 4.11572664e-20, 6.87112379e-35,\n",
              "       1.48610261e-29, 5.91288167e-24, 8.31243018e-38, 6.34202524e-31,\n",
              "       6.83915191e-32, 5.49544248e-29, 1.05244931e-24, 3.00253682e-29,\n",
              "       4.62493341e-26, 1.21146595e-20, 1.29328079e-32, 1.93784393e-29,\n",
              "       1.48925831e-36, 0.00000000e+00, 0.00000000e+00, 0.00000000e+00,\n",
              "       0.00000000e+00, 0.00000000e+00, 0.00000000e+00, 0.00000000e+00,\n",
              "       0.00000000e+00, 0.00000000e+00, 1.09748535e-30], dtype=float32)"
            ]
          },
          "metadata": {
            "tags": []
          },
          "execution_count": 17
        }
      ]
    },
    {
      "cell_type": "code",
      "metadata": {
        "id": "X_34D01iHNMR",
        "colab_type": "code",
        "outputId": "7c5a4df0-a28d-4e98-c8b4-7643b566ece7",
        "colab": {
          "base_uri": "https://localhost:8080/",
          "height": 51
        }
      },
      "source": [
        "print(np.sum([1.84665911e-03, 8.61545265e-01, 1.23906585e-09, 1.83554852e-14,\n",
        "       1.36608064e-01, 2.12584467e-14, 1.27968951e-30, 4.78253341e-20,\n",
        "       1.03265195e-19, 5.33624967e-12, 5.12377840e-17, 3.75612446e-16,\n",
        "       1.55545490e-11, 1.83544999e-22, 1.13281481e-26, 1.48389333e-16,\n",
        "       3.92642652e-16, 6.00181406e-23, 3.88490083e-25, 6.87414327e-28,\n",
        "       2.52155508e-20, 3.01276434e-20, 2.83419441e-28, 4.70811121e-23,\n",
        "       1.14984645e-19, 1.53596734e-26, 2.82469116e-13, 8.41751756e-30,\n",
        "       8.73757896e-17, 2.29264092e-17, 0.00000000e+00, 6.10952211e-25,\n",
        "       3.28338854e-27, 5.88994338e-33, 0.00000000e+00, 8.96511704e-23,\n",
        "       2.23986525e-32, 1.69934824e-36, 1.84646524e-33, 0.00000000e+00,\n",
        "       4.71995776e-32, 9.74057486e-29, 8.50715489e-24]))\n",
        "\n",
        "np.sum(y_pred_prob[400])\n",
        "\n",
        "# prawdopodobieństwa sumują się do 1 (braki to błędy zaokrąglenia)"
      ],
      "execution_count": 18,
      "outputs": [
        {
          "output_type": "stream",
          "text": [
            "0.9999999893702798\n"
          ],
          "name": "stdout"
        },
        {
          "output_type": "execute_result",
          "data": {
            "text/plain": [
              "1.0"
            ]
          },
          "metadata": {
            "tags": []
          },
          "execution_count": 18
        }
      ]
    },
    {
      "cell_type": "code",
      "metadata": {
        "id": "3NAhr3_8DrrZ",
        "colab_type": "code",
        "outputId": "410c4ecc-e4d0-4fd3-86e8-acfce7ae09b6",
        "colab": {
          "base_uri": "https://localhost:8080/",
          "height": 748
        }
      },
      "source": [
        "df = pd.read_csv('data/signnames.csv')\n",
        "labels_dic = df.to_dict()['b']\n",
        "labels_dic"
      ],
      "execution_count": 19,
      "outputs": [
        {
          "output_type": "execute_result",
          "data": {
            "text/plain": [
              "{0: 'Speed limit (20km/h)',\n",
              " 1: 'Speed limit (30km/h)',\n",
              " 2: 'Speed limit (50km/h)',\n",
              " 3: 'Speed limit (60km/h)',\n",
              " 4: 'Speed limit (70km/h)',\n",
              " 5: 'Speed limit (80km/h)',\n",
              " 6: 'End of speed limit (80km/h)',\n",
              " 7: 'Speed limit (100km/h)',\n",
              " 8: 'Speed limit (120km/h)',\n",
              " 9: 'No passing',\n",
              " 10: 'No passing for vehicles over 3.5 metric tons',\n",
              " 11: 'Right-of-way at the next intersection',\n",
              " 12: 'Priority road',\n",
              " 13: 'Yield',\n",
              " 14: 'Stop',\n",
              " 15: 'No vehicles',\n",
              " 16: 'Vehicles over 3.5 metric tons prohibited',\n",
              " 17: 'No entry',\n",
              " 18: 'General caution',\n",
              " 19: 'Dangerous curve to the left',\n",
              " 20: 'Dangerous curve to the right',\n",
              " 21: 'Double curve',\n",
              " 22: 'Bumpy road',\n",
              " 23: 'Slippery road',\n",
              " 24: 'Road narrows on the right',\n",
              " 25: 'Road work',\n",
              " 26: 'Traffic signals',\n",
              " 27: 'Pedestrians',\n",
              " 28: 'Children crossing',\n",
              " 29: 'Bicycles crossing',\n",
              " 30: 'Beware of ice/snow',\n",
              " 31: 'Wild animals crossing',\n",
              " 32: 'End of all speed and passing limits',\n",
              " 33: 'Turn right ahead',\n",
              " 34: 'Turn left ahead',\n",
              " 35: 'Ahead only',\n",
              " 36: 'Go straight or right',\n",
              " 37: 'Go straight or left',\n",
              " 38: 'Keep right',\n",
              " 39: 'Keep left',\n",
              " 40: 'Roundabout mandatory',\n",
              " 41: 'End of no passing',\n",
              " 42: 'End of no passing by vehicles over 3.5 metric tons'}"
            ]
          },
          "metadata": {
            "tags": []
          },
          "execution_count": 19
        }
      ]
    },
    {
      "cell_type": "code",
      "metadata": {
        "id": "8jpNJoGzICcS",
        "colab_type": "code",
        "outputId": "2ee6a874-1013-42de-f6b2-ac74cb6c188f",
        "colab": {
          "base_uri": "https://localhost:8080/",
          "height": 265
        }
      },
      "source": [
        "plt.bar(range(43),y_pred_prob[400]);"
      ],
      "execution_count": 20,
      "outputs": [
        {
          "output_type": "display_data",
          "data": {
            "image/png": "[encoded data removed]",
            "text/plain": [
              "<Figure size 432x288 with 1 Axes>"
            ]
          },
          "metadata": {
            "tags": []
          }
        }
      ]
    },
    {
      "cell_type": "code",
      "metadata": {
        "id": "johERR-yBqPT",
        "colab_type": "code",
        "outputId": "5356c8b2-1eb3-4005-faeb-f960a7c335e6",
        "colab": {
          "base_uri": "https://localhost:8080/",
          "height": 283
        }
      },
      "source": [
        "?.imshow(X_test[0]); #podgląd znaku [0]\n",
        "plt.imshow(X_test[400]); #podgląd znaku [400]"
      ],
      "execution_count": 21,
      "outputs": [
        {
          "output_type": "stream",
          "text": [
            "Object `.imshow` not found.\n"
          ],
          "name": "stdout"
        },
        {
          "output_type": "display_data",
          "data": {
            "image/png": "[encoded data removed]",
            "text/plain": [
              "<Figure size 432x288 with 1 Axes>"
            ]
          },
          "metadata": {
            "tags": []
          }
        }
      ]
    },
    {
      "cell_type": "code",
      "metadata": {
        "id": "me6XoLKKDrnU",
        "colab_type": "code",
        "outputId": "5a284ae1-9a2c-48e2-ba44-5dd296d55dda",
        "colab": {
          "base_uri": "https://localhost:8080/",
          "height": 34
        }
      },
      "source": [
        "np.argmax( y_pred_prob[400] ) #podaje pozycje w indeksie tablicy najwyższej wartości "
      ],
      "execution_count": 22,
      "outputs": [
        {
          "output_type": "execute_result",
          "data": {
            "text/plain": [
              "1"
            ]
          },
          "metadata": {
            "tags": []
          },
          "execution_count": 22
        }
      ]
    },
    {
      "cell_type": "code",
      "metadata": {
        "id": "3vpGS0ndDrji",
        "colab_type": "code",
        "outputId": "d65da2d6-7354-4b92-9abd-c92ca4f11c12",
        "colab": {
          "base_uri": "https://localhost:8080/",
          "height": 34
        }
      },
      "source": [
        "labels_dic[ np.argmax( y_pred_prob[400] ) ] #sprawdza nazwę w słowniku\n",
        "# u mnie jest ok"
      ],
      "execution_count": 23,
      "outputs": [
        {
          "output_type": "execute_result",
          "data": {
            "text/plain": [
              "'Speed limit (30km/h)'"
            ]
          },
          "metadata": {
            "tags": []
          },
          "execution_count": 23
        }
      ]
    },
    {
      "cell_type": "code",
      "metadata": {
        "id": "13R2_ak5qLPT",
        "colab_type": "code",
        "colab": {}
      },
      "source": [
        "def predict(model_trained, X_test, y_test, scoring=accuracy_score):\n",
        "\n",
        "  y_test_norm = np.argmax(y_test, axis=1)\n",
        "\n",
        "  y_pred_prob = model_trained.predict(X_test)\n",
        "  y_pred = np.argmax(y_pred_prob, axis=1)\n",
        "\n",
        "  return scoring(y_test_norm, y_pred)"
      ],
      "execution_count": 0,
      "outputs": []
    },
    {
      "cell_type": "code",
      "metadata": {
        "id": "iGLzoHQuDrdq",
        "colab_type": "code",
        "colab": {
          "base_uri": "https://localhost:8080/",
          "height": 34
        },
        "outputId": "8b279556-9a82-4a22-aa08-595d55269f84"
      },
      "source": [
        "predict(model_trained, X_test, y_test)"
      ],
      "execution_count": 25,
      "outputs": [
        {
          "output_type": "execute_result",
          "data": {
            "text/plain": [
              "0.8360544217687075"
            ]
          },
          "metadata": {
            "tags": []
          },
          "execution_count": 25
        }
      ]
    },
    {
      "cell_type": "code",
      "metadata": {
        "id": "CCAGZXYBDrUS",
        "colab_type": "code",
        "colab": {
          "base_uri": "https://localhost:8080/",
          "height": 224
        },
        "outputId": "9098b49d-a844-45d2-8ec7-490edc5556f9"
      },
      "source": [
        "model = get_cnn_v1(input_shape, num_classes)\n",
        "model_trained = train_model(model, X_train, y_train)\n",
        "\n",
        "predict(model_trained, X_test, y_test)"
      ],
      "execution_count": 26,
      "outputs": [
        {
          "output_type": "stream",
          "text": [
            "Epoch 1/5\n",
            "272/272 [==============================] - 5s 18ms/step - loss: 13.4923 - accuracy: 0.7271 - val_loss: 0.3168 - val_accuracy: 0.9289\n",
            "Epoch 2/5\n",
            "272/272 [==============================] - 5s 18ms/step - loss: 0.2230 - accuracy: 0.9480 - val_loss: 0.1441 - val_accuracy: 0.9687\n",
            "Epoch 3/5\n",
            "272/272 [==============================] - 5s 17ms/step - loss: 0.1423 - accuracy: 0.9674 - val_loss: 0.1167 - val_accuracy: 0.9753\n",
            "Epoch 4/5\n",
            "272/272 [==============================] - 5s 18ms/step - loss: 0.1483 - accuracy: 0.9675 - val_loss: 0.1963 - val_accuracy: 0.9531\n",
            "Epoch 5/5\n",
            "272/272 [==============================] - 5s 18ms/step - loss: 0.0992 - accuracy: 0.9766 - val_loss: 0.0568 - val_accuracy: 0.9847\n"
          ],
          "name": "stdout"
        },
        {
          "output_type": "execute_result",
          "data": {
            "text/plain": [
              "0.8385487528344672"
            ]
          },
          "metadata": {
            "tags": []
          },
          "execution_count": 26
        }
      ]
    },
    {
      "cell_type": "code",
      "metadata": {
        "id": "a3BCvsDypqIy",
        "colab_type": "code",
        "outputId": "1742ed65-f3d4-4d26-e640-0cb5759cf38b",
        "colab": {
          "base_uri": "https://localhost:8080/",
          "height": 224
        }
      },
      "source": [
        "def get_cnn_v2(input_shape, num_classes):\n",
        "  return Sequential([\n",
        "  \n",
        "  Conv2D(filters=32, kernel_size=(3,3), activation='relu', input_shape=input_shape ),\n",
        "  MaxPool2D(),\n",
        "  Dropout(0.3),\n",
        "\n",
        "  Conv2D(filters=64, kernel_size=(3,3), activation='relu'),\n",
        "  MaxPool2D(),\n",
        "  Dropout(0.3),\n",
        "\n",
        "  Flatten(),\n",
        "\n",
        "  Dense(1024, activation='relu'),\n",
        "  Dropout(0.5),\n",
        "\n",
        "  Dense(num_classes, activation='softmax')\n",
        "  ])\n",
        "\n",
        "# get_cnn_v2(input_shape, num_classes).summary()\n",
        "\n",
        "train_and_predict(get_cnn_v2(input_shape, num_classes))"
      ],
      "execution_count": 28,
      "outputs": [
        {
          "output_type": "stream",
          "text": [
            "Epoch 1/5\n",
            "272/272 [==============================] - 4s 15ms/step - loss: 6.8304 - accuracy: 0.0913 - val_loss: 2.9811 - val_accuracy: 0.1972\n",
            "Epoch 2/5\n",
            "272/272 [==============================] - 4s 14ms/step - loss: 2.6375 - accuracy: 0.2797 - val_loss: 1.8686 - val_accuracy: 0.4953\n",
            "Epoch 3/5\n",
            "272/272 [==============================] - 4s 14ms/step - loss: 1.6821 - accuracy: 0.5080 - val_loss: 0.9254 - val_accuracy: 0.7423\n",
            "Epoch 4/5\n",
            "272/272 [==============================] - 4s 14ms/step - loss: 1.0510 - accuracy: 0.6816 - val_loss: 0.4289 - val_accuracy: 0.8928\n",
            "Epoch 5/5\n",
            "272/272 [==============================] - 4s 14ms/step - loss: 0.7041 - accuracy: 0.7828 - val_loss: 0.2377 - val_accuracy: 0.9437\n"
          ],
          "name": "stdout"
        },
        {
          "output_type": "execute_result",
          "data": {
            "text/plain": [
              "0.8564625850340136"
            ]
          },
          "metadata": {
            "tags": []
          },
          "execution_count": 28
        }
      ]
    },
    {
      "cell_type": "code",
      "metadata": {
        "id": "_Ldw9RzODrFM",
        "colab_type": "code",
        "colab": {
          "base_uri": "https://localhost:8080/",
          "height": 224
        },
        "outputId": "6a66e476-d6fa-4182-c000-db3cf447247f"
      },
      "source": [
        "\n",
        "def get_cnn_v1(input_shape, num_classes):\n",
        "  return Sequential([\n",
        "  Conv2D(filters=64, kernel_size=(3,3), activation='relu', input_shape=input_shape ),\n",
        "  Flatten(),\n",
        "  Dense(num_classes, activation='softmax')\n",
        "  ])\n",
        "\n",
        "def train_and_predict (model):\n",
        "  model_trained = train_model(model, X_train, y_train)\n",
        "  return predict(model_trained, X_test, y_test)\n",
        "\n",
        "train_and_predict(get_cnn_v2(input_shape, num_classes))"
      ],
      "execution_count": 29,
      "outputs": [
        {
          "output_type": "stream",
          "text": [
            "Epoch 1/5\n",
            "272/272 [==============================] - 4s 15ms/step - loss: 4.0165 - accuracy: 0.3366 - val_loss: 0.9980 - val_accuracy: 0.7473\n",
            "Epoch 2/5\n",
            "272/272 [==============================] - 4s 14ms/step - loss: 0.9770 - accuracy: 0.7145 - val_loss: 0.2856 - val_accuracy: 0.9328\n",
            "Epoch 3/5\n",
            "272/272 [==============================] - 4s 14ms/step - loss: 0.5535 - accuracy: 0.8380 - val_loss: 0.1619 - val_accuracy: 0.9701\n",
            "Epoch 4/5\n",
            "272/272 [==============================] - 4s 14ms/step - loss: 0.3883 - accuracy: 0.8859 - val_loss: 0.0863 - val_accuracy: 0.9828\n",
            "Epoch 5/5\n",
            "272/272 [==============================] - 4s 14ms/step - loss: 0.3023 - accuracy: 0.9112 - val_loss: 0.0659 - val_accuracy: 0.9873\n"
          ],
          "name": "stdout"
        },
        {
          "output_type": "execute_result",
          "data": {
            "text/plain": [
              "0.916780045351474"
            ]
          },
          "metadata": {
            "tags": []
          },
          "execution_count": 29
        }
      ]
    },
    {
      "cell_type": "code",
      "metadata": {
        "id": "kNLm-zdDsGoe",
        "colab_type": "code",
        "outputId": "6eedccc3-f9ec-4a67-f10f-9ca24c531e7d",
        "colab": {
          "base_uri": "https://localhost:8080/",
          "height": 292
        }
      },
      "source": [
        "model = get_cnn_v2(input_shape, num_classes)\n",
        "params_fit = {\n",
        "    'epochs' : 7\n",
        "}\n",
        "\n",
        "train_model(model, X_train, y_train, params_fit)"
      ],
      "execution_count": 30,
      "outputs": [
        {
          "output_type": "stream",
          "text": [
            "Epoch 1/7\n",
            "272/272 [==============================] - 4s 14ms/step - loss: 5.6975 - accuracy: 0.2414 - val_loss: 1.8652 - val_accuracy: 0.4927\n",
            "Epoch 2/7\n",
            "272/272 [==============================] - 4s 14ms/step - loss: 1.5352 - accuracy: 0.5382 - val_loss: 0.6910 - val_accuracy: 0.8216\n",
            "Epoch 3/7\n",
            "272/272 [==============================] - 4s 14ms/step - loss: 0.8021 - accuracy: 0.7543 - val_loss: 0.2857 - val_accuracy: 0.9370\n",
            "Epoch 4/7\n",
            "272/272 [==============================] - 4s 14ms/step - loss: 0.5054 - accuracy: 0.8427 - val_loss: 0.1529 - val_accuracy: 0.9722\n",
            "Epoch 5/7\n",
            "272/272 [==============================] - 4s 14ms/step - loss: 0.3778 - accuracy: 0.8835 - val_loss: 0.1186 - val_accuracy: 0.9809\n",
            "Epoch 6/7\n",
            "272/272 [==============================] - 4s 14ms/step - loss: 0.2947 - accuracy: 0.9102 - val_loss: 0.0645 - val_accuracy: 0.9894\n",
            "Epoch 7/7\n",
            "272/272 [==============================] - 4s 14ms/step - loss: 0.2563 - accuracy: 0.9230 - val_loss: 0.0507 - val_accuracy: 0.9902\n"
          ],
          "name": "stdout"
        },
        {
          "output_type": "execute_result",
          "data": {
            "text/plain": [
              "<tensorflow.python.keras.engine.sequential.Sequential at 0x7f2be2c55860>"
            ]
          },
          "metadata": {
            "tags": []
          },
          "execution_count": 30
        }
      ]
    },
    {
      "cell_type": "code",
      "metadata": {
        "id": "FaElkCqzxNfK",
        "colab_type": "code",
        "colab": {
          "base_uri": "https://localhost:8080/",
          "height": 224
        },
        "outputId": "acf6cd88-1b32-4762-eff8-ad036cdef725"
      },
      "source": [
        "def get_cnn_v3(input_shape, num_classes):\n",
        "  return Sequential([\n",
        "  \n",
        "  Conv2D(filters=32, kernel_size=(3,3), activation='relu', input_shape=input_shape ),\n",
        "  Conv2D(filters=32, kernel_size=(3,3), activation='relu'),\n",
        "  MaxPool2D(),\n",
        "  Dropout(0.3),\n",
        "\n",
        "  Conv2D(filters=64, kernel_size=(3,3), activation='relu'),\n",
        "  Conv2D(filters=64, kernel_size=(3,3), activation='relu'),\n",
        "  MaxPool2D(),\n",
        "  Dropout(0.3),\n",
        "\n",
        "  Flatten(),\n",
        "\n",
        "  Dense(1024, activation='relu'),\n",
        "  Dropout(0.5),\n",
        "\n",
        "  Dense(num_classes, activation='softmax')\n",
        "  ])\n",
        "\n",
        "# get_cnn_v2(input_shape, num_classes).summary()\n",
        "\n",
        "train_and_predict(get_cnn_v3(input_shape, num_classes))"
      ],
      "execution_count": 31,
      "outputs": [
        {
          "output_type": "stream",
          "text": [
            "Epoch 1/5\n",
            "272/272 [==============================] - 5s 20ms/step - loss: 2.0949 - accuracy: 0.5496 - val_loss: 0.2807 - val_accuracy: 0.9485\n",
            "Epoch 2/5\n",
            "272/272 [==============================] - 5s 19ms/step - loss: 0.4101 - accuracy: 0.8839 - val_loss: 0.0702 - val_accuracy: 0.9836\n",
            "Epoch 3/5\n",
            "272/272 [==============================] - 5s 19ms/step - loss: 0.2331 - accuracy: 0.9346 - val_loss: 0.0511 - val_accuracy: 0.9884\n",
            "Epoch 4/5\n",
            "272/272 [==============================] - 5s 19ms/step - loss: 0.1696 - accuracy: 0.9521 - val_loss: 0.0236 - val_accuracy: 0.9947\n",
            "Epoch 5/5\n",
            "272/272 [==============================] - 5s 19ms/step - loss: 0.1285 - accuracy: 0.9628 - val_loss: 0.0198 - val_accuracy: 0.9954\n"
          ],
          "name": "stdout"
        },
        {
          "output_type": "execute_result",
          "data": {
            "text/plain": [
              "0.9718820861678005"
            ]
          },
          "metadata": {
            "tags": []
          },
          "execution_count": 31
        }
      ]
    },
    {
      "cell_type": "code",
      "metadata": {
        "id": "FZVNOoYMxNb9",
        "colab_type": "code",
        "colab": {
          "base_uri": "https://localhost:8080/",
          "height": 224
        },
        "outputId": "ecc883f7-b8d0-4b47-b732-ad2e7bbb91ad"
      },
      "source": [
        "def get_cnn_v4(input_shape, num_classes):\n",
        "  return Sequential([\n",
        "  \n",
        "  Conv2D(filters=32, kernel_size=(3,3), activation='relu', input_shape=input_shape ),\n",
        "  Conv2D(filters=32, kernel_size=(3,3), activation='relu', padding='same'),\n",
        "  MaxPool2D(),\n",
        "  Dropout(0.3),\n",
        "\n",
        "  Conv2D(filters=64, kernel_size=(3,3), activation='relu', padding='same'),\n",
        "  Conv2D(filters=64, kernel_size=(3,3), activation='relu'),\n",
        "  MaxPool2D(),\n",
        "  Dropout(0.3),\n",
        "\n",
        "  Conv2D(filters=64, kernel_size=(3,3), activation='relu', padding='same'),\n",
        "  Conv2D(filters=64, kernel_size=(3,3), activation='relu'),\n",
        "  MaxPool2D(),\n",
        "  Dropout(0.3),\n",
        "\n",
        "  Flatten(),\n",
        "\n",
        "  Dense(1024, activation='relu'),\n",
        "  Dropout(0.5),\n",
        "\n",
        "  Dense(num_classes, activation='softmax')\n",
        "  ])\n",
        "\n",
        "# get_cnn_v2(input_shape, num_classes).summary()\n",
        "\n",
        "train_and_predict(get_cnn_v4(input_shape, num_classes))"
      ],
      "execution_count": 32,
      "outputs": [
        {
          "output_type": "stream",
          "text": [
            "Epoch 1/5\n",
            "272/272 [==============================] - 6s 23ms/step - loss: 3.1392 - accuracy: 0.1889 - val_loss: 1.3941 - val_accuracy: 0.5762\n",
            "Epoch 2/5\n",
            "272/272 [==============================] - 6s 22ms/step - loss: 1.2218 - accuracy: 0.6211 - val_loss: 0.4274 - val_accuracy: 0.8788\n",
            "Epoch 3/5\n",
            "272/272 [==============================] - 6s 22ms/step - loss: 0.5954 - accuracy: 0.8162 - val_loss: 0.1641 - val_accuracy: 0.9574\n",
            "Epoch 4/5\n",
            "272/272 [==============================] - 6s 21ms/step - loss: 0.3727 - accuracy: 0.8859 - val_loss: 0.0865 - val_accuracy: 0.9775\n",
            "Epoch 5/5\n",
            "272/272 [==============================] - 6s 22ms/step - loss: 0.2791 - accuracy: 0.9150 - val_loss: 0.0612 - val_accuracy: 0.9818\n"
          ],
          "name": "stdout"
        },
        {
          "output_type": "execute_result",
          "data": {
            "text/plain": [
              "0.9532879818594104"
            ]
          },
          "metadata": {
            "tags": []
          },
          "execution_count": 32
        }
      ]
    },
    {
      "cell_type": "code",
      "metadata": {
        "id": "7x9ZBgFNxNYq",
        "colab_type": "code",
        "colab": {
          "base_uri": "https://localhost:8080/",
          "height": 224
        },
        "outputId": "eb32cf8e-d829-4e13-9c93-60b0a046597b"
      },
      "source": [
        "def get_cnn_v5(input_shape, num_classes):\n",
        "  return Sequential([\n",
        "  \n",
        "  Conv2D(filters=32, kernel_size=(3,3), activation='relu', input_shape=input_shape ),\n",
        "  Conv2D(filters=32, kernel_size=(3,3), activation='relu', padding='same'),\n",
        "  MaxPool2D(),\n",
        "  Dropout(0.3),\n",
        "\n",
        "  Conv2D(filters=64, kernel_size=(3,3), activation='relu', padding='same'),\n",
        "  Conv2D(filters=64, kernel_size=(3,3), activation='relu'),\n",
        "  MaxPool2D(),\n",
        "  Dropout(0.3),\n",
        "\n",
        "  Conv2D(filters=64, kernel_size=(3,3), activation='relu', padding='same'),\n",
        "  Conv2D(filters=64, kernel_size=(3,3), activation='relu'),\n",
        "  MaxPool2D(),\n",
        "  Dropout(0.3),\n",
        "\n",
        "  Flatten(),\n",
        "\n",
        "  Dense(1024, activation='relu'),\n",
        "  Dropout(0.5),\n",
        "  \n",
        "  Dense(1024, activation='relu'),\n",
        "  Dropout(0.5),\n",
        "\n",
        "  Dense(num_classes, activation='softmax')\n",
        "  ])\n",
        "\n",
        "# get_cnn_v2(input_shape, num_classes).summary()\n",
        "\n",
        "train_and_predict(get_cnn_v5(input_shape, num_classes))"
      ],
      "execution_count": 33,
      "outputs": [
        {
          "output_type": "stream",
          "text": [
            "Epoch 1/5\n",
            "272/272 [==============================] - 6s 24ms/step - loss: 2.9508 - accuracy: 0.2133 - val_loss: 1.5490 - val_accuracy: 0.4819\n",
            "Epoch 2/5\n",
            "272/272 [==============================] - 6s 23ms/step - loss: 1.2913 - accuracy: 0.5780 - val_loss: 0.4428 - val_accuracy: 0.8500\n",
            "Epoch 3/5\n",
            "272/272 [==============================] - 6s 22ms/step - loss: 0.5839 - accuracy: 0.8099 - val_loss: 0.1694 - val_accuracy: 0.9447\n",
            "Epoch 4/5\n",
            "272/272 [==============================] - 6s 24ms/step - loss: 0.3401 - accuracy: 0.8964 - val_loss: 0.0769 - val_accuracy: 0.9760\n",
            "Epoch 5/5\n",
            "272/272 [==============================] - 6s 22ms/step - loss: 0.2470 - accuracy: 0.9274 - val_loss: 0.0582 - val_accuracy: 0.9831\n"
          ],
          "name": "stdout"
        },
        {
          "output_type": "execute_result",
          "data": {
            "text/plain": [
              "0.9469387755102041"
            ]
          },
          "metadata": {
            "tags": []
          },
          "execution_count": 33
        }
      ]
    },
    {
      "cell_type": "code",
      "metadata": {
        "id": "MJLRSOqqxNTh",
        "colab_type": "code",
        "colab": {
          "base_uri": "https://localhost:8080/",
          "height": 34
        },
        "outputId": "b8964512-0b4a-4020-9d50-5ac30ea5bd1a"
      },
      "source": [
        "X_train[0].shape"
      ],
      "execution_count": 34,
      "outputs": [
        {
          "output_type": "execute_result",
          "data": {
            "text/plain": [
              "(32, 32, 3)"
            ]
          },
          "metadata": {
            "tags": []
          },
          "execution_count": 34
        }
      ]
    },
    {
      "cell_type": "code",
      "metadata": {
        "id": "z8lGF7cxxNP5",
        "colab_type": "code",
        "colab": {
          "base_uri": "https://localhost:8080/",
          "height": 34
        },
        "outputId": "8bf1cf19-5db2-4c3e-90e2-16a1da22218c"
      },
      "source": [
        "color.rgb2gray(X_train[0]).shape"
      ],
      "execution_count": 35,
      "outputs": [
        {
          "output_type": "execute_result",
          "data": {
            "text/plain": [
              "(32, 32)"
            ]
          },
          "metadata": {
            "tags": []
          },
          "execution_count": 35
        }
      ]
    },
    {
      "cell_type": "code",
      "metadata": {
        "id": "eo944pXKxNMe",
        "colab_type": "code",
        "colab": {
          "base_uri": "https://localhost:8080/",
          "height": 266
        },
        "outputId": "b3b727d3-610b-4c82-a1f0-865333f7314d"
      },
      "source": [
        "plt.imshow(color.rgb2gray(X_train[0]));"
      ],
      "execution_count": 36,
      "outputs": [
        {
          "output_type": "display_data",
          "data": {
            "image/png": "[encoded data removed]",
            "text/plain": [
              "<Figure size 432x288 with 1 Axes>"
            ]
          },
          "metadata": {
            "tags": []
          }
        }
      ]
    },
    {
      "cell_type": "code",
      "metadata": {
        "id": "_4-xr0vvxNI7",
        "colab_type": "code",
        "colab": {
          "base_uri": "https://localhost:8080/",
          "height": 266
        },
        "outputId": "5e058953-0e33-4170-ea6a-bfeae8723f01"
      },
      "source": [
        "plt.imshow(color.rgb2gray(X_train[0]), cmap=plt.get_cmap('gray'));"
      ],
      "execution_count": 37,
      "outputs": [
        {
          "output_type": "display_data",
          "data": {
            "image/png": "[encoded data removed]",
            "text/plain": [
              "<Figure size 432x288 with 1 Axes>"
            ]
          },
          "metadata": {
            "tags": []
          }
        }
      ]
    },
    {
      "cell_type": "code",
      "metadata": {
        "id": "Pm2zSYWBxND7",
        "colab_type": "code",
        "colab": {
          "base_uri": "https://localhost:8080/",
          "height": 34
        },
        "outputId": "83bfbc35-02f0-477b-8df4-5b47cb34e71b"
      },
      "source": [
        "color.rgb2gray(X_train).shape"
      ],
      "execution_count": 38,
      "outputs": [
        {
          "output_type": "execute_result",
          "data": {
            "text/plain": [
              "(34799, 32, 32)"
            ]
          },
          "metadata": {
            "tags": []
          },
          "execution_count": 38
        }
      ]
    },
    {
      "cell_type": "code",
      "metadata": {
        "id": "Qw_rSFbPkz3l",
        "colab_type": "code",
        "colab": {
          "base_uri": "https://localhost:8080/",
          "height": 34
        },
        "outputId": "65d68c12-654c-4b58-b3c6-0139acfce217"
      },
      "source": [
        "# X_train_gray = color.rgb2gray(X_train).shape\n",
        "# X_test_gray = color.rgb2gray(X_test).shape\n",
        "# X_train_grey , X_test_gray\n",
        "\n",
        "\n",
        "X_train_gray = color.rgb2gray( X_train ).reshape(-1,32,32,1)\n",
        "X_test_gray  = color.rgb2gray( X_test ).reshape(-1,32,32,1)\n",
        "\n",
        "\n",
        "X_train_gray.shape, X_test_gray.shape"
      ],
      "execution_count": 42,
      "outputs": [
        {
          "output_type": "execute_result",
          "data": {
            "text/plain": [
              "((34799, 32, 32, 1), (4410, 32, 32, 1))"
            ]
          },
          "metadata": {
            "tags": []
          },
          "execution_count": 42
        }
      ]
    },
    {
      "cell_type": "code",
      "metadata": {
        "id": "rzYkQcLCkz0l",
        "colab_type": "code",
        "colab": {
          "base_uri": "https://localhost:8080/",
          "height": 224
        },
        "outputId": "58fb5cb2-a991-4374-cc66-d8a0c94a3a38"
      },
      "source": [
        "model = get_cnn_v5((32, 32, 1), num_classes)\n",
        "model_trained = train_model(model, X_train_gray, y_train, params_fit={})\n",
        "predict(model_trained, X_test_gray, y_test)"
      ],
      "execution_count": 46,
      "outputs": [
        {
          "output_type": "stream",
          "text": [
            "Epoch 1/5\n",
            "272/272 [==============================] - 6s 24ms/step - loss: 2.8506 - accuracy: 0.2029 - val_loss: 0.9356 - val_accuracy: 0.7110\n",
            "Epoch 2/5\n",
            "272/272 [==============================] - 6s 23ms/step - loss: 0.6336 - accuracy: 0.7949 - val_loss: 0.1727 - val_accuracy: 0.9471\n",
            "Epoch 3/5\n",
            "272/272 [==============================] - 6s 23ms/step - loss: 0.2591 - accuracy: 0.9163 - val_loss: 0.0584 - val_accuracy: 0.9812\n",
            "Epoch 4/5\n",
            "272/272 [==============================] - 6s 23ms/step - loss: 0.1697 - accuracy: 0.9455 - val_loss: 0.0379 - val_accuracy: 0.9898\n",
            "Epoch 5/5\n",
            "272/272 [==============================] - 6s 23ms/step - loss: 0.1330 - accuracy: 0.9588 - val_loss: 0.0277 - val_accuracy: 0.9924\n"
          ],
          "name": "stdout"
        },
        {
          "output_type": "execute_result",
          "data": {
            "text/plain": [
              "0.9691609977324263"
            ]
          },
          "metadata": {
            "tags": []
          },
          "execution_count": 46
        }
      ]
    }
  ]
}